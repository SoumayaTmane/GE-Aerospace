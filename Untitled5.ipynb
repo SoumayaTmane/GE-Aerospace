
<script setup>
import { ref } from 'vue'

const msg = ref('Compute Product')
const number1 = ref(4) // Default value for number1
const number2 = ref(5) // Default value for number2
const product = ref(1) // Default value for product
const computed = ref(false) // Default to false, to track when the computation is done

// Function to compute product of number1 and number2
const computeProduct = () => {
  product.value = number1.value * number2.value // Calculate product
  computed.value = true // Mark as computed, so button disappears
}
</script>

<template>
  <div>
    <h1>{{ msg }}</h1>
    <p>Number 1 : {{ number1 }}</p>
    <p>Number 2 : {{ number2 }}</p>
    <img src="https://honeywell.scene7.com/is/image/honeywell/AeroBT-s_1048899194_Airliner-flying_2880x1440-1" alt="My Image" :height="100">
  </div>
  
  <!-- Compute button that disappears once the product is computed -->
  <button v-if="!computed" @click="computeProduct">Compute Product</button>

  <!-- Display the product when the button disappears -->
  <p v-if="computed">Product: {{ product}}</p>
  
 <!-- <input v-model="number1" /> -->
</template>
